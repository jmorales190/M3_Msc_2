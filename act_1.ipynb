{
 "cells": [
  {
   "cell_type": "code",
   "execution_count": 5,
   "metadata": {},
   "outputs": [
    {
     "name": "stdout",
     "output_type": "stream",
     "text": [
      "<class 'pandas.core.frame.DataFrame'>\n",
      "MultiIndex: 16426 entries, ('true;1', '0;TRANSFER;181', '0;C1305486145;181', '0;', '0;C553264065;', '0;', '0;') to ('true;743', '0;CASH_OUT;850002', '5;C1280323807;850002', '5;', '0;C873221189;6510099', '1;7360101', '6;')\n",
      "Data columns (total 1 columns):\n",
      " #   Column                                                                                                                Non-Null Count  Dtype\n",
      "---  ------                                                                                                                --------------  -----\n",
      " 0   isFraud;step;type;amount;nameOrig;oldbalanceOrg;newbalanceOrig;nameDest;oldbalanceDest;newbalanceDest;isFlaggedFraud  16426 non-null  int64\n",
      "dtypes: int64(1)\n",
      "memory usage: 2.7+ MB\n",
      "                                                                                        isFraud;step;type;amount;nameOrig;oldbalanceOrg;newbalanceOrig;nameDest;oldbalanceDest;newbalanceDest;isFlaggedFraud\n",
      "true;1   0;TRANSFER;181     0;C1305486145;181     0; 0;C553264065;        0;        0;                                                  0                                                                   \n",
      "         0;CASH_OUT;181     0;C840083671;181      0; 0;C38997010;21182    0;        0;                                                  0                                                                   \n",
      "         0;TRANSFER;2806    0;C1420196421;2806    0; 0;C972765878;        0;        0;                                                  0                                                                   \n",
      "         0;CASH_OUT;2806    0;C2101527076;2806    0; 0;C1007251739;26202  0;        0;                                                  0                                                                   \n",
      "         0;TRANSFER;20128   0;C137533655;20128    0; 0;C1848415041;       0;        0;                                                  0                                                                   \n",
      "...                                                                                                                                   ...                                                                   \n",
      "true;743 0;CASH_OUT;339682  1;C786484425;339682   1; 0;C776919290;        0;339682  1;                                                  0                                                                   \n",
      "         0;TRANSFER;6311409 3;C1529008245;6311409 3; 0;C1881841831;       0;        0;                                                  0                                                                   \n",
      "         0;CASH_OUT;6311409 3;C1162922333;6311409 3; 0;C1365125890;68488  8;6379898 1;                                                  0                                                                   \n",
      "         0;TRANSFER;850002  5;C1685995037;850002  5; 0;C2080388513;       0;        0;                                                  0                                                                   \n",
      "         0;CASH_OUT;850002  5;C1280323807;850002  5; 0;C873221189;6510099 1;7360101 6;                                                  0                                                                   \n",
      "\n",
      "[16426 rows x 1 columns]\n"
     ]
    }
   ],
   "source": [
    "import pandas as pd\n",
    "\n",
    "df = pd.read_csv('/home/jmorales/master/reto_pwc/Dataset_balanceado_act _1.csv')\n",
    "\n",
    "df.describe()\n",
    "\n",
    "df.info()\n",
    "\n",
    "df.corr\n"
   ]
  },
  {
   "cell_type": "code",
   "execution_count": null,
   "metadata": {},
   "outputs": [],
   "source": []
  }
 ],
 "metadata": {
  "kernelspec": {
   "display_name": "Python 3 (ipykernel)",
   "language": "python",
   "name": "python3"
  },
  "language_info": {
   "codemirror_mode": {
    "name": "ipython",
    "version": 3
   },
   "file_extension": ".py",
   "mimetype": "text/x-python",
   "name": "python",
   "nbconvert_exporter": "python",
   "pygments_lexer": "ipython3",
   "version": "3.10.6"
  }
 },
 "nbformat": 4,
 "nbformat_minor": 4
}
